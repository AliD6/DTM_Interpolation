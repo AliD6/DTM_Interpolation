{
  "cells": [
    {
      "cell_type": "code",
      "execution_count": 1,
      "metadata": {
        "id": "cFNvzIIQE9W5",
        "colab": {
          "base_uri": "https://localhost:8080/"
        },
        "outputId": "5b15a358-a23e-4a34-9be1-92a283f9a52d"
      },
      "outputs": [
        {
          "output_type": "stream",
          "name": "stdout",
          "text": [
            "Looking in indexes: https://pypi.org/simple, https://us-python.pkg.dev/colab-wheels/public/simple/\n",
            "Requirement already satisfied: numpy in /usr/local/lib/python3.7/dist-packages (1.21.6)\n",
            "Looking in indexes: https://pypi.org/simple, https://us-python.pkg.dev/colab-wheels/public/simple/\n",
            "Requirement already satisfied: rasterio in /usr/local/lib/python3.7/dist-packages (1.2.10)\n",
            "Requirement already satisfied: click-plugins in /usr/local/lib/python3.7/dist-packages (from rasterio) (1.1.1)\n",
            "Requirement already satisfied: snuggs>=1.4.1 in /usr/local/lib/python3.7/dist-packages (from rasterio) (1.4.7)\n",
            "Requirement already satisfied: affine in /usr/local/lib/python3.7/dist-packages (from rasterio) (2.3.1)\n",
            "Requirement already satisfied: numpy in /usr/local/lib/python3.7/dist-packages (from rasterio) (1.21.6)\n",
            "Requirement already satisfied: certifi in /usr/local/lib/python3.7/dist-packages (from rasterio) (2022.5.18.1)\n",
            "Requirement already satisfied: setuptools in /usr/local/lib/python3.7/dist-packages (from rasterio) (57.4.0)\n",
            "Requirement already satisfied: click>=4.0 in /usr/local/lib/python3.7/dist-packages (from rasterio) (7.1.2)\n",
            "Requirement already satisfied: cligj>=0.5 in /usr/local/lib/python3.7/dist-packages (from rasterio) (0.7.2)\n",
            "Requirement already satisfied: attrs in /usr/local/lib/python3.7/dist-packages (from rasterio) (21.4.0)\n",
            "Requirement already satisfied: pyparsing>=2.1.6 in /usr/local/lib/python3.7/dist-packages (from snuggs>=1.4.1->rasterio) (3.0.9)\n",
            "Looking in indexes: https://pypi.org/simple, https://us-python.pkg.dev/colab-wheels/public/simple/\n",
            "Requirement already satisfied: pykrige in /usr/local/lib/python3.7/dist-packages (1.6.1)\n",
            "Requirement already satisfied: scipy<2,>=1.1.0 in /usr/local/lib/python3.7/dist-packages (from pykrige) (1.4.1)\n",
            "Requirement already satisfied: numpy<2,>=1.14.5 in /usr/local/lib/python3.7/dist-packages (from pykrige) (1.21.6)\n",
            "Reading package lists... Done\n",
            "Building dependency tree       \n",
            "Reading state information... Done\n",
            "gdal-bin is already the newest version (2.2.3+dfsg-2).\n",
            "python-gdal is already the newest version (2.2.3+dfsg-2).\n",
            "python3-gdal is already the newest version (2.2.3+dfsg-2).\n",
            "The following package was automatically installed and is no longer required:\n",
            "  libnvidia-common-460\n",
            "Use 'apt autoremove' to remove it.\n",
            "0 upgraded, 0 newly installed, 0 to remove and 45 not upgraded.\n",
            "Reading package lists... Done\n",
            "Building dependency tree       \n",
            "Reading state information... Done\n",
            "python3-rtree is already the newest version (0.8.3+ds-1).\n",
            "The following package was automatically installed and is no longer required:\n",
            "  libnvidia-common-460\n",
            "Use 'apt autoremove' to remove it.\n",
            "0 upgraded, 0 newly installed, 0 to remove and 45 not upgraded.\n",
            "Looking in indexes: https://pypi.org/simple, https://us-python.pkg.dev/colab-wheels/public/simple/\n",
            "Collecting git+git://github.com/geopandas/geopandas.git\n",
            "  Cloning git://github.com/geopandas/geopandas.git to /tmp/pip-req-build-g0wp37oh\n",
            "  Running command git clone -q git://github.com/geopandas/geopandas.git /tmp/pip-req-build-g0wp37oh\n",
            "  fatal: unable to connect to github.com:\n",
            "  github.com[0: 140.82.112.4]: errno=Connection timed out\n",
            "\n",
            "\u001b[33mWARNING: Discarding git+git://github.com/geopandas/geopandas.git. Command errored out with exit status 128: git clone -q git://github.com/geopandas/geopandas.git /tmp/pip-req-build-g0wp37oh Check the logs for full command output.\u001b[0m\n",
            "\u001b[31mERROR: Command errored out with exit status 128: git clone -q git://github.com/geopandas/geopandas.git /tmp/pip-req-build-g0wp37oh Check the logs for full command output.\u001b[0m\n",
            "Looking in indexes: https://pypi.org/simple, https://us-python.pkg.dev/colab-wheels/public/simple/\n",
            "Requirement already satisfied: descartes in /usr/local/lib/python3.7/dist-packages (1.1.0)\n",
            "Requirement already satisfied: matplotlib in /usr/local/lib/python3.7/dist-packages (from descartes) (3.2.2)\n",
            "Requirement already satisfied: numpy>=1.11 in /usr/local/lib/python3.7/dist-packages (from matplotlib->descartes) (1.21.6)\n",
            "Requirement already satisfied: cycler>=0.10 in /usr/local/lib/python3.7/dist-packages (from matplotlib->descartes) (0.11.0)\n",
            "Requirement already satisfied: python-dateutil>=2.1 in /usr/local/lib/python3.7/dist-packages (from matplotlib->descartes) (2.8.2)\n",
            "Requirement already satisfied: pyparsing!=2.0.4,!=2.1.2,!=2.1.6,>=2.0.1 in /usr/local/lib/python3.7/dist-packages (from matplotlib->descartes) (3.0.9)\n",
            "Requirement already satisfied: kiwisolver>=1.0.1 in /usr/local/lib/python3.7/dist-packages (from matplotlib->descartes) (1.4.2)\n",
            "Requirement already satisfied: typing-extensions in /usr/local/lib/python3.7/dist-packages (from kiwisolver>=1.0.1->matplotlib->descartes) (4.2.0)\n",
            "Requirement already satisfied: six>=1.5 in /usr/local/lib/python3.7/dist-packages (from python-dateutil>=2.1->matplotlib->descartes) (1.15.0)\n"
          ]
        }
      ],
      "source": [
        "# installations\n",
        "!pip install numpy\n",
        "!pip install rasterio\n",
        "!pip install pykrige\n",
        "!apt install gdal-bin python-gdal python3-gdal \n",
        "!apt install python3-rtree \n",
        "!pip install git+git://github.com/geopandas/geopandas.git\n",
        "!pip install descartes"
      ]
    },
    {
      "cell_type": "code",
      "execution_count": 4,
      "metadata": {
        "id": "0A8sFwr0E9KD"
      },
      "outputs": [],
      "source": [
        "# imports\n",
        "import numpy as np\n",
        "import rasterio as rio\n",
        "import pandas as pd\n",
        "import math\n",
        "import pykrige.kriging_tools as kt\n",
        "from pykrige.ok import OrdinaryKriging\n",
        "from pykrige.uk import UniversalKriging\n",
        "import matplotlib.pyplot as plt\n",
        "import random"
      ]
    },
    {
      "cell_type": "markdown",
      "metadata": {
        "id": "JTk3F9BiE1bN"
      },
      "source": [
        "opening file"
      ]
    },
    {
      "cell_type": "code",
      "execution_count": 5,
      "metadata": {
        "id": "THZcXo-TE14g"
      },
      "outputs": [],
      "source": [
        "with rio.open('dem.tif') as file:\n",
        "  dataset = file.read(1)\n",
        "  row , column = dataset.shape"
      ]
    },
    {
      "cell_type": "code",
      "source": [
        "print(column , row)\n",
        "903/20\n"
      ],
      "metadata": {
        "colab": {
          "base_uri": "https://localhost:8080/"
        },
        "id": "Me2bwTtloEJo",
        "outputId": "ba396027-b5b6-46a5-8847-fe16673d97b8"
      },
      "execution_count": null,
      "outputs": [
        {
          "output_type": "stream",
          "name": "stdout",
          "text": [
            "903 566\n"
          ]
        },
        {
          "output_type": "execute_result",
          "data": {
            "text/plain": [
              "45.15"
            ]
          },
          "metadata": {},
          "execution_count": 60
        }
      ]
    },
    {
      "cell_type": "markdown",
      "metadata": {
        "id": "QEm4rgb_LMvs"
      },
      "source": [
        "take random values"
      ]
    },
    {
      "cell_type": "code",
      "execution_count": 20,
      "metadata": {
        "id": "oGMH-JZBLLs5"
      },
      "outputs": [],
      "source": [
        "# pixelx = random.sample(range(0,dataset.shape[1]) , 100)\n",
        "pixelx = [int(i) for i in list(np.linspace(0 , column-1 ,700)) ]\n",
        "# pixely = random.sample(range(0,dataset.shape[0]) , 100)\n",
        "pixely = [int(i) for i in list(np.linspace(0 , row-1 , 700)) ]\n",
        "data = np.zeros((dataset.shape))\n",
        "# data[pixely][pixelx] = dataset[pixely][pixelx]\n",
        "value = []\n",
        "for x,y in zip(pixelx,pixely):\n",
        "  index_value = dataset[y][x]\n",
        "  data[y][x] = index_value\n",
        "  value.append(index_value)"
      ]
    },
    {
      "cell_type": "code",
      "source": [
        "print(len(pixelx))\n",
        "print(len(pixely))"
      ],
      "metadata": {
        "colab": {
          "base_uri": "https://localhost:8080/"
        },
        "id": "cvggWkJmJxe3",
        "outputId": "e4ced360-f2ac-4c09-b9f0-6becb5aa886a"
      },
      "execution_count": null,
      "outputs": [
        {
          "output_type": "stream",
          "name": "stdout",
          "text": [
            "40\n",
            "40\n"
          ]
        }
      ]
    },
    {
      "cell_type": "code",
      "source": [
        "def find_neighbor(num , pixelx_temp , pixely_temp , x1 , y1):\n",
        "  near_x = sorted(pixelx, key=lambda x:abs(x-x1))[:3]\n",
        "  near_y = sorted(pixely, key=lambda x:abs(x-y1))[:3]\n",
        "  return near_x , near_y\n",
        "\n"
      ],
      "metadata": {
        "id": "MruQA0l4FqvP"
      },
      "execution_count": 7,
      "outputs": []
    },
    {
      "cell_type": "markdown",
      "metadata": {
        "id": "eWmqP_YY-QHW"
      },
      "source": [
        "IDW"
      ]
    },
    {
      "cell_type": "code",
      "execution_count": 8,
      "metadata": {
        "id": "vYEQfVGS-FK7"
      },
      "outputs": [],
      "source": [
        "# distance of two pixels\n",
        "def gamma(x1,x2,y1,y2):\n",
        "  return np.sqrt(((x1-x2)**2) + ((y1-y2)**2))"
      ]
    },
    {
      "cell_type": "code",
      "execution_count": null,
      "metadata": {
        "id": "SyiOvy45a2KZ",
        "colab": {
          "base_uri": "https://localhost:8080/"
        },
        "outputId": "ca7fdd96-9a83-45c7-8768-2c0d3e4b0156"
      },
      "outputs": [
        {
          "output_type": "stream",
          "name": "stderr",
          "text": [
            "/usr/local/lib/python3.7/dist-packages/ipykernel_launcher.py:12: RuntimeWarning: divide by zero encountered in double_scalars\n",
            "  if sys.path[0] == '':\n",
            "/usr/local/lib/python3.7/dist-packages/ipykernel_launcher.py:16: RuntimeWarning: invalid value encountered in double_scalars\n",
            "  app.launch_new_instance()\n"
          ]
        }
      ],
      "source": [
        "# for each pixel in data\n",
        "for x in range(0 , dataset.shape[1]):\n",
        "  for y in range(0 ,dataset.shape[0] ):\n",
        "    # if the pixel is zero meaning it's not bench mark\n",
        "    if data[y][x] == 0:\n",
        "      # weight of each BM for the pixel\n",
        "      weight = []\n",
        "      value = []\n",
        "      neighbors = find_neighbor(3,pixelx , pixely , x , y)\n",
        "      for x1 in neighbors[0]:\n",
        "        for y1 in neighbors[1]:\n",
        "            index_weight = 1/gamma(x1,x,y1,y)\n",
        "            weight.append(index_weight)\n",
        "            value.append(dataset[y1][x1])\n",
        "          # get the value calculated for pixel by formula\n",
        "      data[y][x] = (sum(list(np.multiply(weight,value))))/(sum(weight))"
      ]
    },
    {
      "cell_type": "code",
      "source": [
        "create_tif(data , dataset , file , 'dem_IDW_local_40_not_delete1')"
      ],
      "metadata": {
        "id": "Aku5ewQYp1EM"
      },
      "execution_count": null,
      "outputs": []
    },
    {
      "cell_type": "markdown",
      "metadata": {
        "id": "90V7WMq7EpGp"
      },
      "source": [
        "Kriging (manual)"
      ]
    },
    {
      "cell_type": "code",
      "execution_count": 57,
      "metadata": {
        "id": "UOs6Blg8EsNY"
      },
      "outputs": [],
      "source": [
        "def station_gammas(pixelx , pixely):\n",
        "  # make a len(coordinates)*len(coordinates) length array for distances of stations\n",
        "  distance=[]\n",
        "  for x1 in pixelx:\n",
        "    for y1 in pixely:\n",
        "      for x2 in pixelx:\n",
        "        for y2 in pixely:\n",
        "          distance.append(gamma(x1,y1,x2,y2))\n",
        "\n",
        "  # for x1,y1 in zip(pixelx,pixely):\n",
        "  #   for x2,y2 in zip(pixelx,pixely):\n",
        "  #     distance.append(gamma(x1,y1,x2,y2))\n",
        "\n",
        "  # reshape distance of stations array to 34*34 2D array\n",
        "  distance = np.reshape(distance , (len(pixelx)*len(pixelx),len(pixely)*len(pixely)))\n",
        "\n",
        "  # add a 1*len(coordinates) row to the end of the distance array\n",
        "  station_gamma = np.vstack((distance,np.ones((1,len(pixelx)*len(pixelx)))))\n",
        "\n",
        "  # add a len(coordinates)+1*1 column to the end of the distance array\n",
        "  station_gamma = np.hstack((station_gamma,np.ones((len(pixelx)*len(pixelx)+1,1))))\n",
        "\n",
        "  # the last cell of the array should be zero\n",
        "  station_gamma[-1,-1]=0\n",
        "\n",
        "  try:\n",
        "    station_gamma_inverse = np.linalg.inv(station_gamma)\n",
        "    return station_gamma_inverse\n",
        "  except:\n",
        "    print(np.linalg.matrix_rank(station_gamma))\n",
        "\n",
        "  "
      ]
    },
    {
      "cell_type": "code",
      "source": [
        "\n",
        "for y in range(row):\n",
        "  for x in range(column):\n",
        "    if data[y,x]==0:\n",
        "      sample_distance=[]\n",
        "      value = []\n",
        "      neighbors = find_neighbor(3,pixelx , pixely , x , y)\n",
        "      # print(neighbors)\n",
        "      neighbors_gamma_inverse = station_gammas(neighbors[0] , neighbors[1])\n",
        "      # print(neighbors_gamma_inverse.shape)\n",
        "      for stationx in neighbors[0]:\n",
        "        for stationy in neighbors[1]:\n",
        "          sample_distance.append(gamma(stationx,stationy,x,y))\n",
        "          value.append(dataset[stationy][stationx])\n",
        "      # for x,y in zip(neighbors[0],neighbors[1]):\n",
        "      #   sample_distance.append(gamma(stationx,stationy,x,y))\n",
        "      sample_distance.append(1)\n",
        "      sample_distance = np.array(sample_distance).T\n",
        "      # print(len(sample_distance))\n",
        "      \n",
        "      weight0 = np.dot(neighbors_gamma_inverse,sample_distance)\n",
        "      weight = weight0[0:-1]\n",
        "      \n",
        "\n",
        "      Z = sum(np.multiply(weight,value))\n",
        "      data[y][x] = Z\n",
        "\n"
      ],
      "metadata": {
        "colab": {
          "base_uri": "https://localhost:8080/",
          "height": 300
        },
        "id": "tW6p9YKmnE_7",
        "outputId": "caeda16b-3da1-4e2e-e14e-2128cbd7383d"
      },
      "execution_count": 58,
      "outputs": [
        {
          "output_type": "stream",
          "name": "stdout",
          "text": [
            "7\n"
          ]
        },
        {
          "output_type": "error",
          "ename": "TypeError",
          "evalue": "ignored",
          "traceback": [
            "\u001b[0;31m---------------------------------------------------------------------------\u001b[0m",
            "\u001b[0;31mTypeError\u001b[0m                                 Traceback (most recent call last)",
            "\u001b[0;32m<ipython-input-58-c6919a048875>\u001b[0m in \u001b[0;36m<module>\u001b[0;34m()\u001b[0m\n\u001b[1;32m     19\u001b[0m       \u001b[0;31m# print(len(sample_distance))\u001b[0m\u001b[0;34m\u001b[0m\u001b[0;34m\u001b[0m\u001b[0;34m\u001b[0m\u001b[0m\n\u001b[1;32m     20\u001b[0m \u001b[0;34m\u001b[0m\u001b[0m\n\u001b[0;32m---> 21\u001b[0;31m       \u001b[0mweight0\u001b[0m \u001b[0;34m=\u001b[0m \u001b[0mnp\u001b[0m\u001b[0;34m.\u001b[0m\u001b[0mdot\u001b[0m\u001b[0;34m(\u001b[0m\u001b[0mneighbors_gamma_inverse\u001b[0m\u001b[0;34m,\u001b[0m\u001b[0msample_distance\u001b[0m\u001b[0;34m)\u001b[0m\u001b[0;34m\u001b[0m\u001b[0;34m\u001b[0m\u001b[0m\n\u001b[0m\u001b[1;32m     22\u001b[0m       \u001b[0mweight\u001b[0m \u001b[0;34m=\u001b[0m \u001b[0mweight0\u001b[0m\u001b[0;34m[\u001b[0m\u001b[0;36m0\u001b[0m\u001b[0;34m:\u001b[0m\u001b[0;34m-\u001b[0m\u001b[0;36m1\u001b[0m\u001b[0;34m]\u001b[0m\u001b[0;34m\u001b[0m\u001b[0;34m\u001b[0m\u001b[0m\n\u001b[1;32m     23\u001b[0m \u001b[0;34m\u001b[0m\u001b[0m\n",
            "\u001b[0;32m<__array_function__ internals>\u001b[0m in \u001b[0;36mdot\u001b[0;34m(*args, **kwargs)\u001b[0m\n",
            "\u001b[0;31mTypeError\u001b[0m: unsupported operand type(s) for *: 'NoneType' and 'float'"
          ]
        }
      ]
    },
    {
      "cell_type": "code",
      "source": [
        "create_tif(data , dataset , file , 'dem_Kriging_manual_40_not')"
      ],
      "metadata": {
        "colab": {
          "base_uri": "https://localhost:8080/",
          "height": 300
        },
        "id": "z5Ev8qYFcqAl",
        "outputId": "0aaa3e83-1c08-48ff-f8c4-c63f2dc0a749"
      },
      "execution_count": 49,
      "outputs": [
        {
          "output_type": "error",
          "ename": "IndexError",
          "evalue": "ignored",
          "traceback": [
            "\u001b[0;31m---------------------------------------------------------------------------\u001b[0m",
            "\u001b[0;31mIndexError\u001b[0m                                Traceback (most recent call last)",
            "\u001b[0;32m<ipython-input-49-d8d430d1d37e>\u001b[0m in \u001b[0;36m<module>\u001b[0;34m()\u001b[0m\n\u001b[0;32m----> 1\u001b[0;31m \u001b[0mcreate_tif\u001b[0m\u001b[0;34m(\u001b[0m\u001b[0mZ\u001b[0m \u001b[0;34m,\u001b[0m \u001b[0mdataset\u001b[0m \u001b[0;34m,\u001b[0m \u001b[0mfile\u001b[0m \u001b[0;34m,\u001b[0m \u001b[0;34m'dem_Kriging_manual_40_not'\u001b[0m\u001b[0;34m)\u001b[0m\u001b[0;34m\u001b[0m\u001b[0;34m\u001b[0m\u001b[0m\n\u001b[0m",
            "\u001b[0;32m<ipython-input-21-717dfbd13db8>\u001b[0m in \u001b[0;36mcreate_tif\u001b[0;34m(data, dataset, file, name)\u001b[0m\n\u001b[1;32m      3\u001b[0m                     \u001b[0;34m'w'\u001b[0m\u001b[0;34m,\u001b[0m\u001b[0;34m\u001b[0m\u001b[0;34m\u001b[0m\u001b[0m\n\u001b[1;32m      4\u001b[0m                     \u001b[0mdriver\u001b[0m\u001b[0;34m=\u001b[0m\u001b[0;34m'GTiff'\u001b[0m\u001b[0;34m,\u001b[0m\u001b[0;34m\u001b[0m\u001b[0;34m\u001b[0m\u001b[0m\n\u001b[0;32m----> 5\u001b[0;31m                     \u001b[0mheight\u001b[0m \u001b[0;34m=\u001b[0m \u001b[0mdata\u001b[0m\u001b[0;34m.\u001b[0m\u001b[0mshape\u001b[0m\u001b[0;34m[\u001b[0m\u001b[0;36m0\u001b[0m\u001b[0;34m]\u001b[0m\u001b[0;34m,\u001b[0m\u001b[0;34m\u001b[0m\u001b[0;34m\u001b[0m\u001b[0m\n\u001b[0m\u001b[1;32m      6\u001b[0m                     \u001b[0mwidth\u001b[0m \u001b[0;34m=\u001b[0m \u001b[0mdata\u001b[0m\u001b[0;34m.\u001b[0m\u001b[0mshape\u001b[0m\u001b[0;34m[\u001b[0m\u001b[0;36m1\u001b[0m\u001b[0;34m]\u001b[0m\u001b[0;34m,\u001b[0m\u001b[0;34m\u001b[0m\u001b[0;34m\u001b[0m\u001b[0m\n\u001b[1;32m      7\u001b[0m                     \u001b[0mcount\u001b[0m\u001b[0;34m=\u001b[0m\u001b[0;36m1\u001b[0m\u001b[0;34m,\u001b[0m\u001b[0;34m\u001b[0m\u001b[0;34m\u001b[0m\u001b[0m\n",
            "\u001b[0;31mIndexError\u001b[0m: tuple index out of range"
          ]
        }
      ]
    },
    {
      "cell_type": "markdown",
      "metadata": {
        "id": "MRsR8WttEsmy"
      },
      "source": [
        "Kriging(pykrige)"
      ]
    },
    {
      "cell_type": "code",
      "execution_count": 8,
      "metadata": {
        "id": "PiBXTpe-EwDb"
      },
      "outputs": [],
      "source": [
        "def UK_model (pixelx , pixely , value ,row ,column ): \n",
        "\n",
        "    # making grid\n",
        "    gridx = np.arange(0.0, column, 1)\n",
        "    gridy = np.arange(0.0, row, 1)\n",
        "    # x = []\n",
        "    # y = []\n",
        "    # val = []\n",
        "    # for x1 in pixelx:\n",
        "    #   for y1 in pixely:\n",
        "    #     x.append(x1)\n",
        "    #     y.append(y1)\n",
        "    #     val.append(dataset[y1][x1])\n",
        "\n",
        "    UK = UniversalKriging(\n",
        "      # data['pixelx'],\n",
        "      pixelx,\n",
        "      # data['pixely'],\n",
        "      pixely,\n",
        "      # data[Name_pollution],\n",
        "      value,\n",
        "      variogram_model=\"power\",\n",
        "      nlags = 3,\n",
        "      weight= False,\n",
        "      anisotropy_scaling = 1,\n",
        "      anisotropy_angle = 0,\n",
        "      # drift_terms=[\"regional_linear\"],\n",
        "      exact_values = True,\n",
        "      pseudo_inv = False,\n",
        "      # pseudo_inv_type = 'pinv'\n",
        "      )\n",
        "    \n",
        "    z, ss = UK.execute(\"grid\", gridx, gridy)\n",
        "    return z , ss"
      ]
    },
    {
      "cell_type": "code",
      "source": [
        "z , ss = UK_model(pixelx , pixely , value , row , column)"
      ],
      "metadata": {
        "id": "7lpE2ICdmM0G"
      },
      "execution_count": null,
      "outputs": []
    },
    {
      "cell_type": "code",
      "source": [
        "create_tif(z , dataset , file , 'dem_pykrige_universal_900')"
      ],
      "metadata": {
        "id": "ssqYAr1BmknE"
      },
      "execution_count": 19,
      "outputs": []
    },
    {
      "cell_type": "code",
      "source": [
        "def validation_UK_Model (pixelx , pixely , value ,row ,column ):\n",
        "      #create column of prediction\n",
        "      data['prediction'] = np.zeros(len(data))\n",
        "\n",
        "      for i in range(len(data)):\n",
        "          # delete value we want to predict\n",
        "          model_data = data.drop(i)\n",
        "\n",
        "          #predict values\n",
        "          model_values , model_variances = UK_model(data = model_data ,row = row ,column = column)\n",
        "\n",
        "          #add predict value for deleted coordination\n",
        "          data['prediction'][i] = model_values[ data['pixely'][i] , data['pixelx'][i]]\n",
        "      \n",
        "      return data"
      ],
      "metadata": {
        "id": "GlcvYbJsbZ8T"
      },
      "execution_count": null,
      "outputs": []
    },
    {
      "cell_type": "code",
      "source": [
        ""
      ],
      "metadata": {
        "id": "O5BKSS2k7saF"
      },
      "execution_count": null,
      "outputs": []
    },
    {
      "cell_type": "code",
      "source": [
        "def OK_model (data ,row ,column): \n",
        "\n",
        "    # making grid\n",
        "    gridx = np.arange(0.0, column, 1)\n",
        "    gridy = np.arange(0.0, row, 1)\n",
        "\n",
        "    OK = OrdinaryKriging(\n",
        "     # data['pixelx'],\n",
        "      pixelx,\n",
        "      # data['pixely'],\n",
        "      pixely,\n",
        "      # data[Name_pollution],\n",
        "      value,\n",
        "      variogram_model=\"power\",\n",
        "      nlags = 2,\n",
        "      anisotropy_scaling = 1,\n",
        "      anisotropy_angle = 0,\n",
        "      enable_statistics = True,\n",
        "      exact_values = True,\n",
        "      pseudo_inv = False,\n",
        "      # pseudo_inv_type = 'pinvh',\n",
        "      weight= False,\n",
        "      )\n",
        "    \n",
        "    z, ss = OK.execute(\"grid\", gridx, gridy)\n",
        "    return z , ss"
      ],
      "metadata": {
        "id": "wMObfF-rbWVa"
      },
      "execution_count": null,
      "outputs": []
    },
    {
      "cell_type": "code",
      "source": [
        "z , ss = OK_model(pixelx , pixely , value , row , column)"
      ],
      "metadata": {
        "id": "ccahJXgz7ydh"
      },
      "execution_count": null,
      "outputs": []
    },
    {
      "cell_type": "code",
      "source": [
        "def validation_OK_Model (data ,row ,column,Name_pollution):\n",
        "      #create column of prediction\n",
        "      data['prediction'] = np.zeros(len(data))\n",
        "\n",
        "      for i in range(len(data)):\n",
        "          # delete value we want to predict\n",
        "          model_data = data.drop(i)\n",
        "\n",
        "          #predict values\n",
        "          model_values , model_variances = OK_model(data = model_data ,row = row ,column = column,Name_pollution=Name_pollution)\n",
        "\n",
        "          #add predict value for deleted coordination\n",
        "          data['prediction'][i] = model_values[ data['pixely'][i] , data['pixelx'][i]]\n",
        "      \n",
        "      return data"
      ],
      "metadata": {
        "id": "BBhZNQNcbcHR"
      },
      "execution_count": null,
      "outputs": []
    },
    {
      "cell_type": "markdown",
      "metadata": {
        "id": "POJUlE4S-Pak"
      },
      "source": [
        "making Tif from data"
      ]
    },
    {
      "cell_type": "code",
      "execution_count": 11,
      "metadata": {
        "id": "FYFK1bPq4Q7-"
      },
      "outputs": [],
      "source": [
        "def create_tif(data , dataset , file , name):\n",
        "  new_dataset1 = rio.open(f'{name}.tif',\n",
        "                    'w', \n",
        "                    driver='GTiff',\n",
        "                    height = data.shape[0], \n",
        "                    width = data.shape[1],\n",
        "                    count=1,\n",
        "                    dtype=dataset.dtype,\n",
        "                    crs='+proj=latlong',\n",
        "                    transform=file.transform,\n",
        "                    )\n",
        "  new_dataset1.write(data, 1)\n",
        "  new_dataset1.close()"
      ]
    },
    {
      "cell_type": "code",
      "source": [
        "def RMSE_cal(predictions , targets):\n",
        "  return np.sqrt(np.mean((predictions-targets)**2))"
      ],
      "metadata": {
        "id": "CdWgRF-nrcVH"
      },
      "execution_count": 7,
      "outputs": []
    }
  ],
  "metadata": {
    "colab": {
      "name": "DTM_Interpolation",
      "provenance": [],
      "collapsed_sections": []
    },
    "kernelspec": {
      "display_name": "Python 3",
      "name": "python3"
    },
    "language_info": {
      "name": "python"
    }
  },
  "nbformat": 4,
  "nbformat_minor": 0
}